{
 "cells": [
  {
   "cell_type": "code",
   "execution_count": 1,
   "id": "50d5f06e",
   "metadata": {
    "_cell_guid": "b1076dfc-b9ad-4769-8c92-a6c4dae69d19",
    "_uuid": "8f2839f25d086af736a60e9eeb907d3b93b6e0e5",
    "execution": {
     "iopub.execute_input": "2025-07-29T08:57:50.812989Z",
     "iopub.status.busy": "2025-07-29T08:57:50.812771Z",
     "iopub.status.idle": "2025-07-29T08:57:54.043211Z",
     "shell.execute_reply": "2025-07-29T08:57:54.042601Z"
    },
    "papermill": {
     "duration": 3.235583,
     "end_time": "2025-07-29T08:57:54.044512",
     "exception": false,
     "start_time": "2025-07-29T08:57:50.808929",
     "status": "completed"
    },
    "tags": []
   },
   "outputs": [],
   "source": [
    "import pandas as pd\n",
    "import numpy as np\n",
    "from sklearn.model_selection import StratifiedKFold\n",
    "from sklearn.preprocessing import OrdinalEncoder, LabelEncoder\n",
    "from sklearn.metrics import accuracy_score\n",
    "from sklearn.ensemble import RandomForestClassifier\n",
    "import optuna\n",
    "import warnings\n",
    "from sklearn.metrics import roc_curve\n",
    "warnings.filterwarnings(\"ignore\", category=RuntimeWarning)\n",
    "warnings.filterwarnings(\"ignore\", category=FutureWarning)"
   ]
  },
  {
   "cell_type": "code",
   "execution_count": 2,
   "id": "785777b0",
   "metadata": {
    "execution": {
     "iopub.execute_input": "2025-07-29T08:57:54.051087Z",
     "iopub.status.busy": "2025-07-29T08:57:54.050385Z",
     "iopub.status.idle": "2025-07-29T08:57:54.117770Z",
     "shell.execute_reply": "2025-07-29T08:57:54.117216Z"
    },
    "papermill": {
     "duration": 0.071445,
     "end_time": "2025-07-29T08:57:54.118842",
     "exception": false,
     "start_time": "2025-07-29T08:57:54.047397",
     "status": "completed"
    },
    "tags": []
   },
   "outputs": [],
   "source": [
    "train = pd.read_csv('/kaggle/input/playground-series-s5e7/train.csv')\n",
    "test = pd.read_csv('/kaggle/input/playground-series-s5e7/test.csv')\n",
    "submission = pd.read_csv('/kaggle/input/playground-series-s5e7/sample_submission.csv')\n",
    "original = pd.read_csv('/kaggle/input/extrovert-vs-introvert-behavior-data-backup/personality_datasert.csv')"
   ]
  },
  {
   "cell_type": "code",
   "execution_count": 3,
   "id": "b221c189",
   "metadata": {
    "execution": {
     "iopub.execute_input": "2025-07-29T08:57:54.124965Z",
     "iopub.status.busy": "2025-07-29T08:57:54.124343Z",
     "iopub.status.idle": "2025-07-29T08:57:54.146244Z",
     "shell.execute_reply": "2025-07-29T08:57:54.145496Z"
    },
    "papermill": {
     "duration": 0.025934,
     "end_time": "2025-07-29T08:57:54.147350",
     "exception": false,
     "start_time": "2025-07-29T08:57:54.121416",
     "status": "completed"
    },
    "tags": []
   },
   "outputs": [
    {
     "data": {
      "text/html": [
       "<div>\n",
       "<style scoped>\n",
       "    .dataframe tbody tr th:only-of-type {\n",
       "        vertical-align: middle;\n",
       "    }\n",
       "\n",
       "    .dataframe tbody tr th {\n",
       "        vertical-align: top;\n",
       "    }\n",
       "\n",
       "    .dataframe thead th {\n",
       "        text-align: right;\n",
       "    }\n",
       "</style>\n",
       "<table border=\"1\" class=\"dataframe\">\n",
       "  <thead>\n",
       "    <tr style=\"text-align: right;\">\n",
       "      <th></th>\n",
       "      <th>id</th>\n",
       "      <th>Time_spent_Alone</th>\n",
       "      <th>Stage_fear</th>\n",
       "      <th>Social_event_attendance</th>\n",
       "      <th>Going_outside</th>\n",
       "      <th>Drained_after_socializing</th>\n",
       "      <th>Friends_circle_size</th>\n",
       "      <th>Post_frequency</th>\n",
       "      <th>Personality</th>\n",
       "    </tr>\n",
       "  </thead>\n",
       "  <tbody>\n",
       "    <tr>\n",
       "      <th>0</th>\n",
       "      <td>0</td>\n",
       "      <td>0.0</td>\n",
       "      <td>No</td>\n",
       "      <td>6.0</td>\n",
       "      <td>4.0</td>\n",
       "      <td>No</td>\n",
       "      <td>15.0</td>\n",
       "      <td>5.0</td>\n",
       "      <td>Extrovert</td>\n",
       "    </tr>\n",
       "    <tr>\n",
       "      <th>1</th>\n",
       "      <td>1</td>\n",
       "      <td>1.0</td>\n",
       "      <td>No</td>\n",
       "      <td>7.0</td>\n",
       "      <td>3.0</td>\n",
       "      <td>No</td>\n",
       "      <td>10.0</td>\n",
       "      <td>8.0</td>\n",
       "      <td>Extrovert</td>\n",
       "    </tr>\n",
       "    <tr>\n",
       "      <th>2</th>\n",
       "      <td>2</td>\n",
       "      <td>6.0</td>\n",
       "      <td>Yes</td>\n",
       "      <td>1.0</td>\n",
       "      <td>0.0</td>\n",
       "      <td>NaN</td>\n",
       "      <td>3.0</td>\n",
       "      <td>0.0</td>\n",
       "      <td>Introvert</td>\n",
       "    </tr>\n",
       "    <tr>\n",
       "      <th>3</th>\n",
       "      <td>3</td>\n",
       "      <td>3.0</td>\n",
       "      <td>No</td>\n",
       "      <td>7.0</td>\n",
       "      <td>3.0</td>\n",
       "      <td>No</td>\n",
       "      <td>11.0</td>\n",
       "      <td>5.0</td>\n",
       "      <td>Extrovert</td>\n",
       "    </tr>\n",
       "    <tr>\n",
       "      <th>4</th>\n",
       "      <td>4</td>\n",
       "      <td>1.0</td>\n",
       "      <td>No</td>\n",
       "      <td>4.0</td>\n",
       "      <td>4.0</td>\n",
       "      <td>No</td>\n",
       "      <td>13.0</td>\n",
       "      <td>NaN</td>\n",
       "      <td>Extrovert</td>\n",
       "    </tr>\n",
       "  </tbody>\n",
       "</table>\n",
       "</div>"
      ],
      "text/plain": [
       "   id  Time_spent_Alone Stage_fear  Social_event_attendance  Going_outside  \\\n",
       "0   0               0.0         No                      6.0            4.0   \n",
       "1   1               1.0         No                      7.0            3.0   \n",
       "2   2               6.0        Yes                      1.0            0.0   \n",
       "3   3               3.0         No                      7.0            3.0   \n",
       "4   4               1.0         No                      4.0            4.0   \n",
       "\n",
       "  Drained_after_socializing  Friends_circle_size  Post_frequency Personality  \n",
       "0                        No                 15.0             5.0   Extrovert  \n",
       "1                        No                 10.0             8.0   Extrovert  \n",
       "2                       NaN                  3.0             0.0   Introvert  \n",
       "3                        No                 11.0             5.0   Extrovert  \n",
       "4                        No                 13.0             NaN   Extrovert  "
      ]
     },
     "execution_count": 3,
     "metadata": {},
     "output_type": "execute_result"
    }
   ],
   "source": [
    "train.head()"
   ]
  },
  {
   "cell_type": "code",
   "execution_count": 4,
   "id": "9cf615fa",
   "metadata": {
    "execution": {
     "iopub.execute_input": "2025-07-29T08:57:54.153109Z",
     "iopub.status.busy": "2025-07-29T08:57:54.152880Z",
     "iopub.status.idle": "2025-07-29T08:57:54.185411Z",
     "shell.execute_reply": "2025-07-29T08:57:54.184904Z"
    },
    "papermill": {
     "duration": 0.036707,
     "end_time": "2025-07-29T08:57:54.186612",
     "exception": false,
     "start_time": "2025-07-29T08:57:54.149905",
     "status": "completed"
    },
    "tags": []
   },
   "outputs": [],
   "source": [
    "original = original.rename(columns={'Personality': 'match_p'})\n",
    "drop_cols = [col for col in original.columns if col != 'match_p']\n",
    "original = original.drop_duplicates(subset=drop_cols)\n",
    "\n",
    "# Merge with train and test\n",
    "train = train.merge(original, how='left')\n",
    "test = test.merge(original, how='left')"
   ]
  },
  {
   "cell_type": "code",
   "execution_count": 5,
   "id": "d3f80cc0",
   "metadata": {
    "execution": {
     "iopub.execute_input": "2025-07-29T08:57:54.192749Z",
     "iopub.status.busy": "2025-07-29T08:57:54.192237Z",
     "iopub.status.idle": "2025-07-29T08:57:54.202433Z",
     "shell.execute_reply": "2025-07-29T08:57:54.201881Z"
    },
    "papermill": {
     "duration": 0.014343,
     "end_time": "2025-07-29T08:57:54.203497",
     "exception": false,
     "start_time": "2025-07-29T08:57:54.189154",
     "status": "completed"
    },
    "tags": []
   },
   "outputs": [
    {
     "data": {
      "text/html": [
       "<div>\n",
       "<style scoped>\n",
       "    .dataframe tbody tr th:only-of-type {\n",
       "        vertical-align: middle;\n",
       "    }\n",
       "\n",
       "    .dataframe tbody tr th {\n",
       "        vertical-align: top;\n",
       "    }\n",
       "\n",
       "    .dataframe thead th {\n",
       "        text-align: right;\n",
       "    }\n",
       "</style>\n",
       "<table border=\"1\" class=\"dataframe\">\n",
       "  <thead>\n",
       "    <tr style=\"text-align: right;\">\n",
       "      <th></th>\n",
       "      <th>id</th>\n",
       "      <th>Time_spent_Alone</th>\n",
       "      <th>Stage_fear</th>\n",
       "      <th>Social_event_attendance</th>\n",
       "      <th>Going_outside</th>\n",
       "      <th>Drained_after_socializing</th>\n",
       "      <th>Friends_circle_size</th>\n",
       "      <th>Post_frequency</th>\n",
       "      <th>Personality</th>\n",
       "      <th>match_p</th>\n",
       "    </tr>\n",
       "  </thead>\n",
       "  <tbody>\n",
       "    <tr>\n",
       "      <th>0</th>\n",
       "      <td>0</td>\n",
       "      <td>0.0</td>\n",
       "      <td>No</td>\n",
       "      <td>6.0</td>\n",
       "      <td>4.0</td>\n",
       "      <td>No</td>\n",
       "      <td>15.0</td>\n",
       "      <td>5.0</td>\n",
       "      <td>Extrovert</td>\n",
       "      <td>NaN</td>\n",
       "    </tr>\n",
       "    <tr>\n",
       "      <th>1</th>\n",
       "      <td>1</td>\n",
       "      <td>1.0</td>\n",
       "      <td>No</td>\n",
       "      <td>7.0</td>\n",
       "      <td>3.0</td>\n",
       "      <td>No</td>\n",
       "      <td>10.0</td>\n",
       "      <td>8.0</td>\n",
       "      <td>Extrovert</td>\n",
       "      <td>NaN</td>\n",
       "    </tr>\n",
       "    <tr>\n",
       "      <th>2</th>\n",
       "      <td>2</td>\n",
       "      <td>6.0</td>\n",
       "      <td>Yes</td>\n",
       "      <td>1.0</td>\n",
       "      <td>0.0</td>\n",
       "      <td>NaN</td>\n",
       "      <td>3.0</td>\n",
       "      <td>0.0</td>\n",
       "      <td>Introvert</td>\n",
       "      <td>NaN</td>\n",
       "    </tr>\n",
       "    <tr>\n",
       "      <th>3</th>\n",
       "      <td>3</td>\n",
       "      <td>3.0</td>\n",
       "      <td>No</td>\n",
       "      <td>7.0</td>\n",
       "      <td>3.0</td>\n",
       "      <td>No</td>\n",
       "      <td>11.0</td>\n",
       "      <td>5.0</td>\n",
       "      <td>Extrovert</td>\n",
       "      <td>NaN</td>\n",
       "    </tr>\n",
       "    <tr>\n",
       "      <th>4</th>\n",
       "      <td>4</td>\n",
       "      <td>1.0</td>\n",
       "      <td>No</td>\n",
       "      <td>4.0</td>\n",
       "      <td>4.0</td>\n",
       "      <td>No</td>\n",
       "      <td>13.0</td>\n",
       "      <td>NaN</td>\n",
       "      <td>Extrovert</td>\n",
       "      <td>NaN</td>\n",
       "    </tr>\n",
       "  </tbody>\n",
       "</table>\n",
       "</div>"
      ],
      "text/plain": [
       "   id  Time_spent_Alone Stage_fear  Social_event_attendance  Going_outside  \\\n",
       "0   0               0.0         No                      6.0            4.0   \n",
       "1   1               1.0         No                      7.0            3.0   \n",
       "2   2               6.0        Yes                      1.0            0.0   \n",
       "3   3               3.0         No                      7.0            3.0   \n",
       "4   4               1.0         No                      4.0            4.0   \n",
       "\n",
       "  Drained_after_socializing  Friends_circle_size  Post_frequency Personality  \\\n",
       "0                        No                 15.0             5.0   Extrovert   \n",
       "1                        No                 10.0             8.0   Extrovert   \n",
       "2                       NaN                  3.0             0.0   Introvert   \n",
       "3                        No                 11.0             5.0   Extrovert   \n",
       "4                        No                 13.0             NaN   Extrovert   \n",
       "\n",
       "  match_p  \n",
       "0     NaN  \n",
       "1     NaN  \n",
       "2     NaN  \n",
       "3     NaN  \n",
       "4     NaN  "
      ]
     },
     "execution_count": 5,
     "metadata": {},
     "output_type": "execute_result"
    }
   ],
   "source": [
    "train.head()"
   ]
  },
  {
   "cell_type": "code",
   "execution_count": 6,
   "id": "86828b09",
   "metadata": {
    "execution": {
     "iopub.execute_input": "2025-07-29T08:57:54.209582Z",
     "iopub.status.busy": "2025-07-29T08:57:54.209391Z",
     "iopub.status.idle": "2025-07-29T08:57:54.223583Z",
     "shell.execute_reply": "2025-07-29T08:57:54.222857Z"
    },
    "papermill": {
     "duration": 0.018396,
     "end_time": "2025-07-29T08:57:54.224606",
     "exception": false,
     "start_time": "2025-07-29T08:57:54.206210",
     "status": "completed"
    },
    "tags": []
   },
   "outputs": [
    {
     "name": "stdout",
     "output_type": "stream",
     "text": [
      "<class 'pandas.core.frame.DataFrame'>\n",
      "RangeIndex: 18524 entries, 0 to 18523\n",
      "Data columns (total 10 columns):\n",
      " #   Column                     Non-Null Count  Dtype  \n",
      "---  ------                     --------------  -----  \n",
      " 0   id                         18524 non-null  int64  \n",
      " 1   Time_spent_Alone           17334 non-null  float64\n",
      " 2   Stage_fear                 16631 non-null  object \n",
      " 3   Social_event_attendance    17344 non-null  float64\n",
      " 4   Going_outside              17058 non-null  float64\n",
      " 5   Drained_after_socializing  17375 non-null  object \n",
      " 6   Friends_circle_size        17470 non-null  float64\n",
      " 7   Post_frequency             17260 non-null  float64\n",
      " 8   Personality                18524 non-null  object \n",
      " 9   match_p                    178 non-null    object \n",
      "dtypes: float64(5), int64(1), object(4)\n",
      "memory usage: 1.4+ MB\n"
     ]
    }
   ],
   "source": [
    "train.info()"
   ]
  },
  {
   "cell_type": "code",
   "execution_count": 7,
   "id": "e791b16b",
   "metadata": {
    "execution": {
     "iopub.execute_input": "2025-07-29T08:57:54.230860Z",
     "iopub.status.busy": "2025-07-29T08:57:54.230660Z",
     "iopub.status.idle": "2025-07-29T08:57:54.256142Z",
     "shell.execute_reply": "2025-07-29T08:57:54.255410Z"
    },
    "papermill": {
     "duration": 0.029866,
     "end_time": "2025-07-29T08:57:54.257246",
     "exception": false,
     "start_time": "2025-07-29T08:57:54.227380",
     "status": "completed"
    },
    "tags": []
   },
   "outputs": [
    {
     "data": {
      "text/html": [
       "<div>\n",
       "<style scoped>\n",
       "    .dataframe tbody tr th:only-of-type {\n",
       "        vertical-align: middle;\n",
       "    }\n",
       "\n",
       "    .dataframe tbody tr th {\n",
       "        vertical-align: top;\n",
       "    }\n",
       "\n",
       "    .dataframe thead th {\n",
       "        text-align: right;\n",
       "    }\n",
       "</style>\n",
       "<table border=\"1\" class=\"dataframe\">\n",
       "  <thead>\n",
       "    <tr style=\"text-align: right;\">\n",
       "      <th></th>\n",
       "      <th>id</th>\n",
       "      <th>Time_spent_Alone</th>\n",
       "      <th>Social_event_attendance</th>\n",
       "      <th>Going_outside</th>\n",
       "      <th>Friends_circle_size</th>\n",
       "      <th>Post_frequency</th>\n",
       "    </tr>\n",
       "  </thead>\n",
       "  <tbody>\n",
       "    <tr>\n",
       "      <th>count</th>\n",
       "      <td>18524.000000</td>\n",
       "      <td>17334.000000</td>\n",
       "      <td>17344.000000</td>\n",
       "      <td>17058.000000</td>\n",
       "      <td>17470.000000</td>\n",
       "      <td>17260.000000</td>\n",
       "    </tr>\n",
       "    <tr>\n",
       "      <th>mean</th>\n",
       "      <td>9261.500000</td>\n",
       "      <td>3.137764</td>\n",
       "      <td>5.265106</td>\n",
       "      <td>4.044319</td>\n",
       "      <td>7.996737</td>\n",
       "      <td>4.982097</td>\n",
       "    </tr>\n",
       "    <tr>\n",
       "      <th>std</th>\n",
       "      <td>5347.562529</td>\n",
       "      <td>3.003786</td>\n",
       "      <td>2.753359</td>\n",
       "      <td>2.062580</td>\n",
       "      <td>4.223484</td>\n",
       "      <td>2.879139</td>\n",
       "    </tr>\n",
       "    <tr>\n",
       "      <th>min</th>\n",
       "      <td>0.000000</td>\n",
       "      <td>0.000000</td>\n",
       "      <td>0.000000</td>\n",
       "      <td>0.000000</td>\n",
       "      <td>0.000000</td>\n",
       "      <td>0.000000</td>\n",
       "    </tr>\n",
       "    <tr>\n",
       "      <th>25%</th>\n",
       "      <td>4630.750000</td>\n",
       "      <td>1.000000</td>\n",
       "      <td>3.000000</td>\n",
       "      <td>3.000000</td>\n",
       "      <td>5.000000</td>\n",
       "      <td>3.000000</td>\n",
       "    </tr>\n",
       "    <tr>\n",
       "      <th>50%</th>\n",
       "      <td>9261.500000</td>\n",
       "      <td>2.000000</td>\n",
       "      <td>5.000000</td>\n",
       "      <td>4.000000</td>\n",
       "      <td>8.000000</td>\n",
       "      <td>5.000000</td>\n",
       "    </tr>\n",
       "    <tr>\n",
       "      <th>75%</th>\n",
       "      <td>13892.250000</td>\n",
       "      <td>4.000000</td>\n",
       "      <td>8.000000</td>\n",
       "      <td>6.000000</td>\n",
       "      <td>12.000000</td>\n",
       "      <td>7.000000</td>\n",
       "    </tr>\n",
       "    <tr>\n",
       "      <th>max</th>\n",
       "      <td>18523.000000</td>\n",
       "      <td>11.000000</td>\n",
       "      <td>10.000000</td>\n",
       "      <td>7.000000</td>\n",
       "      <td>15.000000</td>\n",
       "      <td>10.000000</td>\n",
       "    </tr>\n",
       "  </tbody>\n",
       "</table>\n",
       "</div>"
      ],
      "text/plain": [
       "                 id  Time_spent_Alone  Social_event_attendance  Going_outside  \\\n",
       "count  18524.000000      17334.000000             17344.000000   17058.000000   \n",
       "mean    9261.500000          3.137764                 5.265106       4.044319   \n",
       "std     5347.562529          3.003786                 2.753359       2.062580   \n",
       "min        0.000000          0.000000                 0.000000       0.000000   \n",
       "25%     4630.750000          1.000000                 3.000000       3.000000   \n",
       "50%     9261.500000          2.000000                 5.000000       4.000000   \n",
       "75%    13892.250000          4.000000                 8.000000       6.000000   \n",
       "max    18523.000000         11.000000                10.000000       7.000000   \n",
       "\n",
       "       Friends_circle_size  Post_frequency  \n",
       "count         17470.000000    17260.000000  \n",
       "mean              7.996737        4.982097  \n",
       "std               4.223484        2.879139  \n",
       "min               0.000000        0.000000  \n",
       "25%               5.000000        3.000000  \n",
       "50%               8.000000        5.000000  \n",
       "75%              12.000000        7.000000  \n",
       "max              15.000000       10.000000  "
      ]
     },
     "execution_count": 7,
     "metadata": {},
     "output_type": "execute_result"
    }
   ],
   "source": [
    "train.describe()"
   ]
  },
  {
   "cell_type": "code",
   "execution_count": 8,
   "id": "0240d130",
   "metadata": {
    "execution": {
     "iopub.execute_input": "2025-07-29T08:57:54.263714Z",
     "iopub.status.busy": "2025-07-29T08:57:54.263514Z",
     "iopub.status.idle": "2025-07-29T08:57:54.268070Z",
     "shell.execute_reply": "2025-07-29T08:57:54.267396Z"
    },
    "papermill": {
     "duration": 0.00899,
     "end_time": "2025-07-29T08:57:54.269158",
     "exception": false,
     "start_time": "2025-07-29T08:57:54.260168",
     "status": "completed"
    },
    "tags": []
   },
   "outputs": [],
   "source": [
    "X = train.drop(columns=['Personality'])\n",
    "y = train['Personality']"
   ]
  },
  {
   "cell_type": "code",
   "execution_count": 9,
   "id": "5709b62f",
   "metadata": {
    "execution": {
     "iopub.execute_input": "2025-07-29T08:57:54.275404Z",
     "iopub.status.busy": "2025-07-29T08:57:54.275227Z",
     "iopub.status.idle": "2025-07-29T08:57:54.281628Z",
     "shell.execute_reply": "2025-07-29T08:57:54.280915Z"
    },
    "papermill": {
     "duration": 0.010739,
     "end_time": "2025-07-29T08:57:54.282668",
     "exception": false,
     "start_time": "2025-07-29T08:57:54.271929",
     "status": "completed"
    },
    "tags": []
   },
   "outputs": [
    {
     "name": "stdout",
     "output_type": "stream",
     "text": [
      "[INFO] Label encoding completed. Classes: ['Extrovert' 'Introvert']\n"
     ]
    }
   ],
   "source": [
    "target_encoder = LabelEncoder()\n",
    "y = pd.Series(target_encoder.fit_transform(y))\n",
    "print(\"[INFO] Label encoding completed. Classes:\", target_encoder.classes_)"
   ]
  },
  {
   "cell_type": "code",
   "execution_count": 10,
   "id": "56a159d0",
   "metadata": {
    "execution": {
     "iopub.execute_input": "2025-07-29T08:57:54.289278Z",
     "iopub.status.busy": "2025-07-29T08:57:54.289080Z",
     "iopub.status.idle": "2025-07-29T08:57:54.294134Z",
     "shell.execute_reply": "2025-07-29T08:57:54.293466Z"
    },
    "papermill": {
     "duration": 0.009526,
     "end_time": "2025-07-29T08:57:54.295139",
     "exception": false,
     "start_time": "2025-07-29T08:57:54.285613",
     "status": "completed"
    },
    "tags": []
   },
   "outputs": [],
   "source": [
    "def preprocess_fold(X_train, X_val):\n",
    "    for df in [X_train, X_val]:\n",
    "        df.columns = df.columns.str.lower().str.replace(' ', '_')\n",
    "        df.drop(columns=['id'], inplace=True, errors='ignore')\n",
    "        df['stage_fear'] = df['stage_fear'].fillna('unknown')\n",
    "        df['drained_after_socializing'] = df['drained_after_socializing'].fillna('unknown')\n",
    "        df['match_p_is_null'] = df['match_p'].isna().astype(int)\n",
    "        df['match_p'] = df['match_p'].fillna('unknown')\n",
    "        for col in df.select_dtypes(include='number').columns:\n",
    "            df[col] = df[col].fillna(df[col].mean())\n",
    "    cat_cols = X_train.select_dtypes(include=\"object\").columns.tolist()\n",
    "    encoder = OrdinalEncoder(handle_unknown='use_encoded_value', unknown_value=-1)\n",
    "    X_train[cat_cols] = encoder.fit_transform(X_train[cat_cols])\n",
    "    X_val[cat_cols] = encoder.transform(X_val[cat_cols])\n",
    "    return X_train, X_val, encoder"
   ]
  },
  {
   "cell_type": "code",
   "execution_count": 11,
   "id": "91eae9a0",
   "metadata": {
    "execution": {
     "iopub.execute_input": "2025-07-29T08:57:54.302455Z",
     "iopub.status.busy": "2025-07-29T08:57:54.301935Z",
     "iopub.status.idle": "2025-07-29T08:57:54.305316Z",
     "shell.execute_reply": "2025-07-29T08:57:54.304657Z"
    },
    "papermill": {
     "duration": 0.0084,
     "end_time": "2025-07-29T08:57:54.306330",
     "exception": false,
     "start_time": "2025-07-29T08:57:54.297930",
     "status": "completed"
    },
    "tags": []
   },
   "outputs": [],
   "source": [
    "rf = RandomForestClassifier(n_estimators=344, max_depth=11, max_features=None,\n",
    "                            min_samples_split=11, min_samples_leaf=1,\n",
    "                            random_state=42, n_jobs=-1)"
   ]
  },
  {
   "cell_type": "code",
   "execution_count": 12,
   "id": "bf2dbc1c",
   "metadata": {
    "execution": {
     "iopub.execute_input": "2025-07-29T08:57:54.312563Z",
     "iopub.status.busy": "2025-07-29T08:57:54.312371Z",
     "iopub.status.idle": "2025-07-29T08:58:06.200786Z",
     "shell.execute_reply": "2025-07-29T08:58:06.200023Z"
    },
    "papermill": {
     "duration": 11.892728,
     "end_time": "2025-07-29T08:58:06.201889",
     "exception": false,
     "start_time": "2025-07-29T08:57:54.309161",
     "status": "completed"
    },
    "tags": []
   },
   "outputs": [
    {
     "name": "stdout",
     "output_type": "stream",
     "text": [
      "\n",
      "[INFO] Fold 1\n",
      "[INFO] Accuracy: 0.971390\n",
      "\n",
      "[INFO] Fold 2\n",
      "[INFO] Accuracy: 0.968691\n",
      "\n",
      "[INFO] Fold 3\n",
      "[INFO] Accuracy: 0.967341\n",
      "\n",
      "[INFO] Fold 4\n",
      "[INFO] Accuracy: 0.970580\n",
      "\n",
      "[INFO] Fold 5\n",
      "[INFO] Accuracy: 0.972192\n",
      "\n",
      "[INFO] Mean CV Accuracy: 0.9700389847354721\n"
     ]
    }
   ],
   "source": [
    "models, scores = [], []\n",
    "skf = StratifiedKFold(n_splits=5, shuffle=True, random_state=42)\n",
    "\n",
    "for fold, (train_idx, val_idx) in enumerate(skf.split(X, y)):\n",
    "    print(f\"\\n[INFO] Fold {fold + 1}\")\n",
    "    X_train, X_val = X.iloc[train_idx], X.iloc[val_idx]\n",
    "    y_train, y_val = y[train_idx], y[val_idx]\n",
    "    \n",
    "    X_train_prep, X_val_prep, encoder = preprocess_fold(X_train.copy(), X_val.copy())\n",
    "    rf.fit(X_train_prep, y_train)\n",
    "    acc = accuracy_score(y_val, rf.predict(X_val_prep))\n",
    "    print(f\"[INFO] Accuracy: {acc:.6f}\")\n",
    "    models.append(rf)\n",
    "    scores.append(acc)\n",
    "\n",
    "print(\"\\n[INFO] Mean CV Accuracy:\", np.mean(scores))"
   ]
  },
  {
   "cell_type": "code",
   "execution_count": 13,
   "id": "0edd2fd3",
   "metadata": {
    "execution": {
     "iopub.execute_input": "2025-07-29T08:58:06.209836Z",
     "iopub.status.busy": "2025-07-29T08:58:06.209420Z",
     "iopub.status.idle": "2025-07-29T08:58:06.214312Z",
     "shell.execute_reply": "2025-07-29T08:58:06.213749Z"
    },
    "papermill": {
     "duration": 0.009945,
     "end_time": "2025-07-29T08:58:06.215359",
     "exception": false,
     "start_time": "2025-07-29T08:58:06.205414",
     "status": "completed"
    },
    "tags": []
   },
   "outputs": [],
   "source": [
    "def preprocess_final_test(df, encoder):\n",
    "    df.columns = df.columns.str.lower().str.replace(' ', '_')\n",
    "    df.drop(columns=['id'], inplace=True, errors='ignore')\n",
    "    df['stage_fear'] = df['stage_fear'].fillna('unknown')\n",
    "    df['drained_after_socializing'] = df['drained_after_socializing'].fillna('unknown')\n",
    "    df['match_p_is_null'] = df['match_p'].isna().astype(int)\n",
    "    df['match_p'] = df['match_p'].fillna('unknown')\n",
    "    for col in df.select_dtypes(include='number').columns:\n",
    "        df[col] = df[col].fillna(df[col].mean())\n",
    "    cat_cols = df.select_dtypes(include='object').columns\n",
    "    df[cat_cols] = encoder.transform(df[cat_cols])\n",
    "    return df"
   ]
  },
  {
   "cell_type": "code",
   "execution_count": 14,
   "id": "2c7c5285",
   "metadata": {
    "execution": {
     "iopub.execute_input": "2025-07-29T08:58:06.222258Z",
     "iopub.status.busy": "2025-07-29T08:58:06.222020Z",
     "iopub.status.idle": "2025-07-29T08:58:06.984161Z",
     "shell.execute_reply": "2025-07-29T08:58:06.983354Z"
    },
    "papermill": {
     "duration": 0.766878,
     "end_time": "2025-07-29T08:58:06.985340",
     "exception": false,
     "start_time": "2025-07-29T08:58:06.218462",
     "status": "completed"
    },
    "tags": []
   },
   "outputs": [
    {
     "name": "stdout",
     "output_type": "stream",
     "text": [
      "[INFO] Submission saved to 'submission.csv'\n"
     ]
    }
   ],
   "source": [
    "X_test = preprocess_final_test(test.copy(), encoder)\n",
    "\n",
    "# Prediction\n",
    "probas = sum(model.predict_proba(X_test) for model in models) / len(models)\n",
    "preds = target_encoder.inverse_transform(np.argmax(probas, axis=1))\n",
    "\n",
    "# Submission\n",
    "submission = pd.DataFrame({'id': test['id'], 'Personality': preds})\n",
    "submission.to_csv('submission.csv', index=False)\n",
    "print(\"[INFO] Submission saved to 'submission.csv'\")"
   ]
  },
  {
   "cell_type": "code",
   "execution_count": 15,
   "id": "71fd027f",
   "metadata": {
    "execution": {
     "iopub.execute_input": "2025-07-29T08:58:06.993410Z",
     "iopub.status.busy": "2025-07-29T08:58:06.992971Z",
     "iopub.status.idle": "2025-07-29T08:58:06.999294Z",
     "shell.execute_reply": "2025-07-29T08:58:06.998601Z"
    },
    "papermill": {
     "duration": 0.011277,
     "end_time": "2025-07-29T08:58:07.000439",
     "exception": false,
     "start_time": "2025-07-29T08:58:06.989162",
     "status": "completed"
    },
    "tags": []
   },
   "outputs": [
    {
     "data": {
      "text/html": [
       "<div>\n",
       "<style scoped>\n",
       "    .dataframe tbody tr th:only-of-type {\n",
       "        vertical-align: middle;\n",
       "    }\n",
       "\n",
       "    .dataframe tbody tr th {\n",
       "        vertical-align: top;\n",
       "    }\n",
       "\n",
       "    .dataframe thead th {\n",
       "        text-align: right;\n",
       "    }\n",
       "</style>\n",
       "<table border=\"1\" class=\"dataframe\">\n",
       "  <thead>\n",
       "    <tr style=\"text-align: right;\">\n",
       "      <th></th>\n",
       "      <th>id</th>\n",
       "      <th>Personality</th>\n",
       "    </tr>\n",
       "  </thead>\n",
       "  <tbody>\n",
       "    <tr>\n",
       "      <th>0</th>\n",
       "      <td>18524</td>\n",
       "      <td>Extrovert</td>\n",
       "    </tr>\n",
       "    <tr>\n",
       "      <th>1</th>\n",
       "      <td>18525</td>\n",
       "      <td>Introvert</td>\n",
       "    </tr>\n",
       "    <tr>\n",
       "      <th>2</th>\n",
       "      <td>18526</td>\n",
       "      <td>Extrovert</td>\n",
       "    </tr>\n",
       "    <tr>\n",
       "      <th>3</th>\n",
       "      <td>18527</td>\n",
       "      <td>Extrovert</td>\n",
       "    </tr>\n",
       "    <tr>\n",
       "      <th>4</th>\n",
       "      <td>18528</td>\n",
       "      <td>Introvert</td>\n",
       "    </tr>\n",
       "  </tbody>\n",
       "</table>\n",
       "</div>"
      ],
      "text/plain": [
       "      id Personality\n",
       "0  18524   Extrovert\n",
       "1  18525   Introvert\n",
       "2  18526   Extrovert\n",
       "3  18527   Extrovert\n",
       "4  18528   Introvert"
      ]
     },
     "execution_count": 15,
     "metadata": {},
     "output_type": "execute_result"
    }
   ],
   "source": [
    "submission.head()"
   ]
  }
 ],
 "metadata": {
  "kaggle": {
   "accelerator": "gpu",
   "dataSources": [
    {
     "databundleVersionId": 12738969,
     "sourceId": 91718,
     "sourceType": "competition"
    },
    {
     "datasetId": 7777099,
     "sourceId": 12336995,
     "sourceType": "datasetVersion"
    }
   ],
   "dockerImageVersionId": 31090,
   "isGpuEnabled": true,
   "isInternetEnabled": true,
   "language": "python",
   "sourceType": "notebook"
  },
  "kernelspec": {
   "display_name": "Python 3",
   "language": "python",
   "name": "python3"
  },
  "language_info": {
   "codemirror_mode": {
    "name": "ipython",
    "version": 3
   },
   "file_extension": ".py",
   "mimetype": "text/x-python",
   "name": "python",
   "nbconvert_exporter": "python",
   "pygments_lexer": "ipython3",
   "version": "3.11.13"
  },
  "papermill": {
   "default_parameters": {},
   "duration": 20.701134,
   "end_time": "2025-07-29T08:58:07.420868",
   "environment_variables": {},
   "exception": null,
   "input_path": "__notebook__.ipynb",
   "output_path": "__notebook__.ipynb",
   "parameters": {},
   "start_time": "2025-07-29T08:57:46.719734",
   "version": "2.6.0"
  }
 },
 "nbformat": 4,
 "nbformat_minor": 5
}
